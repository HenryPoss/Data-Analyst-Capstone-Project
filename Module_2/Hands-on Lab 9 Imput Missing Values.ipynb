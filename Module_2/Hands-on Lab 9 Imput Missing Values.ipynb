{
 "cells": [
  {
   "cell_type": "markdown",
   "metadata": {},
   "source": [
    "<p style=\"text-align:center\">\n",
    "    <a href=\"https://skills.network\" target=\"_blank\">\n",
    "    <img src=\"https://cf-courses-data.s3.us.cloud-object-storage.appdomain.cloud/assets/logos/SN_web_lightmode.png\" width=\"200\" alt=\"Skills Network Logo\"  />\n",
    "    </a>\n",
    "</p>\n"
   ]
  },
  {
   "cell_type": "markdown",
   "metadata": {},
   "source": [
    "# **Impute Missing Values**\n"
   ]
  },
  {
   "cell_type": "markdown",
   "metadata": {},
   "source": [
    "Estimated time needed: **30** minutes\n"
   ]
  },
  {
   "cell_type": "markdown",
   "metadata": {},
   "source": [
    "In this lab, you will practice essential data wrangling techniques using the Stack Overflow survey dataset. The primary focus is on handling missing data and ensuring data quality. You will:\n",
    "\n",
    "- **Load the Data:** Import the dataset into a DataFrame using the pandas library.\n",
    "\n",
    "- **Clean the Data:** Identify and remove duplicate entries to maintain data integrity.\n",
    "\n",
    "- **Handle Missing Values:** Detect missing values, impute them with appropriate strategies, and verify the imputation to create a complete and reliable dataset for analysis.\n",
    "\n",
    "This lab equips you with the skills to effectively preprocess and clean real-world datasets, a crucial step in any data analysis project.\n"
   ]
  },
  {
   "cell_type": "markdown",
   "metadata": {},
   "source": [
    "## Objectives\n"
   ]
  },
  {
   "cell_type": "markdown",
   "metadata": {},
   "source": [
    "In this lab, you will perform the following:\n"
   ]
  },
  {
   "cell_type": "markdown",
   "metadata": {},
   "source": [
    "-   Identify missing values in the dataset.\n",
    "\n",
    "-   Apply techniques to impute missing values in the dataset.\n",
    "  \n",
    "-   Use suitable techniques to normalize data in the dataset.\n"
   ]
  },
  {
   "cell_type": "markdown",
   "metadata": {},
   "source": [
    "-----\n"
   ]
  },
  {
   "cell_type": "markdown",
   "metadata": {},
   "source": [
    "#### Install needed library\n"
   ]
  },
  {
   "cell_type": "code",
   "execution_count": 25,
   "metadata": {},
   "outputs": [
    {
     "name": "stdout",
     "output_type": "stream",
     "text": [
      "Requirement already satisfied: pandas in /opt/conda/lib/python3.12/site-packages (2.2.3)\n",
      "Requirement already satisfied: numpy>=1.26.0 in /opt/conda/lib/python3.12/site-packages (from pandas) (2.2.4)\n",
      "Requirement already satisfied: python-dateutil>=2.8.2 in /opt/conda/lib/python3.12/site-packages (from pandas) (2.9.0.post0)\n",
      "Requirement already satisfied: pytz>=2020.1 in /opt/conda/lib/python3.12/site-packages (from pandas) (2024.2)\n",
      "Requirement already satisfied: tzdata>=2022.7 in /opt/conda/lib/python3.12/site-packages (from pandas) (2025.2)\n",
      "Requirement already satisfied: six>=1.5 in /opt/conda/lib/python3.12/site-packages (from python-dateutil>=2.8.2->pandas) (1.17.0)\n",
      "Collecting matplotlib\n",
      "  Downloading matplotlib-3.10.1-cp312-cp312-manylinux_2_17_x86_64.manylinux2014_x86_64.whl.metadata (11 kB)\n",
      "Collecting contourpy>=1.0.1 (from matplotlib)\n",
      "  Downloading contourpy-1.3.2-cp312-cp312-manylinux_2_17_x86_64.manylinux2014_x86_64.whl.metadata (5.5 kB)\n",
      "Collecting cycler>=0.10 (from matplotlib)\n",
      "  Downloading cycler-0.12.1-py3-none-any.whl.metadata (3.8 kB)\n",
      "Collecting fonttools>=4.22.0 (from matplotlib)\n",
      "  Downloading fonttools-4.57.0-cp312-cp312-manylinux_2_5_x86_64.manylinux1_x86_64.manylinux_2_17_x86_64.manylinux2014_x86_64.whl.metadata (102 kB)\n",
      "Collecting kiwisolver>=1.3.1 (from matplotlib)\n",
      "  Downloading kiwisolver-1.4.8-cp312-cp312-manylinux_2_17_x86_64.manylinux2014_x86_64.whl.metadata (6.2 kB)\n",
      "Requirement already satisfied: numpy>=1.23 in /opt/conda/lib/python3.12/site-packages (from matplotlib) (2.2.4)\n",
      "Requirement already satisfied: packaging>=20.0 in /opt/conda/lib/python3.12/site-packages (from matplotlib) (24.2)\n",
      "Collecting pillow>=8 (from matplotlib)\n",
      "  Downloading pillow-11.2.1-cp312-cp312-manylinux_2_28_x86_64.whl.metadata (8.9 kB)\n",
      "Collecting pyparsing>=2.3.1 (from matplotlib)\n",
      "  Downloading pyparsing-3.2.3-py3-none-any.whl.metadata (5.0 kB)\n",
      "Requirement already satisfied: python-dateutil>=2.7 in /opt/conda/lib/python3.12/site-packages (from matplotlib) (2.9.0.post0)\n",
      "Requirement already satisfied: six>=1.5 in /opt/conda/lib/python3.12/site-packages (from python-dateutil>=2.7->matplotlib) (1.17.0)\n",
      "Downloading matplotlib-3.10.1-cp312-cp312-manylinux_2_17_x86_64.manylinux2014_x86_64.whl (8.6 MB)\n",
      "\u001b[2K   \u001b[90m━━━━━━━━━━━━━━━━━━━━━━━━━━━━━━━━━━━━━━━━\u001b[0m \u001b[32m8.6/8.6 MB\u001b[0m \u001b[31m118.5 MB/s\u001b[0m eta \u001b[36m0:00:00\u001b[0m\n",
      "\u001b[?25hDownloading contourpy-1.3.2-cp312-cp312-manylinux_2_17_x86_64.manylinux2014_x86_64.whl (323 kB)\n",
      "Downloading cycler-0.12.1-py3-none-any.whl (8.3 kB)\n",
      "Downloading fonttools-4.57.0-cp312-cp312-manylinux_2_5_x86_64.manylinux1_x86_64.manylinux_2_17_x86_64.manylinux2014_x86_64.whl (4.9 MB)\n",
      "\u001b[2K   \u001b[90m━━━━━━━━━━━━━━━━━━━━━━━━━━━━━━━━━━━━━━━━\u001b[0m \u001b[32m4.9/4.9 MB\u001b[0m \u001b[31m93.7 MB/s\u001b[0m eta \u001b[36m0:00:00\u001b[0m\n",
      "\u001b[?25hDownloading kiwisolver-1.4.8-cp312-cp312-manylinux_2_17_x86_64.manylinux2014_x86_64.whl (1.5 MB)\n",
      "\u001b[2K   \u001b[90m━━━━━━━━━━━━━━━━━━━━━━━━━━━━━━━━━━━━━━━━\u001b[0m \u001b[32m1.5/1.5 MB\u001b[0m \u001b[31m38.6 MB/s\u001b[0m eta \u001b[36m0:00:00\u001b[0m\n",
      "\u001b[?25hDownloading pillow-11.2.1-cp312-cp312-manylinux_2_28_x86_64.whl (4.6 MB)\n",
      "\u001b[2K   \u001b[90m━━━━━━━━━━━━━━━━━━━━━━━━━━━━━━━━━━━━━━━━\u001b[0m \u001b[32m4.6/4.6 MB\u001b[0m \u001b[31m151.7 MB/s\u001b[0m eta \u001b[36m0:00:00\u001b[0m\n",
      "\u001b[?25hDownloading pyparsing-3.2.3-py3-none-any.whl (111 kB)\n",
      "Installing collected packages: pyparsing, pillow, kiwisolver, fonttools, cycler, contourpy, matplotlib\n",
      "Successfully installed contourpy-1.3.2 cycler-0.12.1 fonttools-4.57.0 kiwisolver-1.4.8 matplotlib-3.10.1 pillow-11.2.1 pyparsing-3.2.3\n"
     ]
    }
   ],
   "source": [
    "!pip install pandas\n",
    "!pip install matplotlib"
   ]
  },
  {
   "cell_type": "markdown",
   "metadata": {},
   "source": [
    "### Step 1: Import Required Libraries\n"
   ]
  },
  {
   "cell_type": "code",
   "execution_count": 26,
   "metadata": {},
   "outputs": [],
   "source": [
    "import pandas as pd\n",
    "import numpy as np\n",
    "import matplotlib.pyplot as plt"
   ]
  },
  {
   "cell_type": "markdown",
   "metadata": {},
   "source": [
    "### Step 2: Load the Dataset Into a Dataframe\n"
   ]
  },
  {
   "cell_type": "markdown",
   "metadata": {},
   "source": [
    "#### **Read Data**\n",
    "<p>\n",
    "The functions below will download the dataset into your browser:\n",
    "</p>\n"
   ]
  },
  {
   "cell_type": "code",
   "execution_count": 3,
   "metadata": {},
   "outputs": [
    {
     "name": "stdout",
     "output_type": "stream",
     "text": [
      "   ResponseId                      MainBranch                 Age  \\\n",
      "0           1  I am a developer by profession  Under 18 years old   \n",
      "1           2  I am a developer by profession     35-44 years old   \n",
      "2           3  I am a developer by profession     45-54 years old   \n",
      "3           4           I am learning to code     18-24 years old   \n",
      "4           5  I am a developer by profession     18-24 years old   \n",
      "\n",
      "            Employment RemoteWork   Check  \\\n",
      "0  Employed, full-time     Remote  Apples   \n",
      "1  Employed, full-time     Remote  Apples   \n",
      "2  Employed, full-time     Remote  Apples   \n",
      "3   Student, full-time        NaN  Apples   \n",
      "4   Student, full-time        NaN  Apples   \n",
      "\n",
      "                                    CodingActivities  \\\n",
      "0                                              Hobby   \n",
      "1  Hobby;Contribute to open-source projects;Other...   \n",
      "2  Hobby;Contribute to open-source projects;Other...   \n",
      "3                                                NaN   \n",
      "4                                                NaN   \n",
      "\n",
      "                                             EdLevel  \\\n",
      "0                          Primary/elementary school   \n",
      "1       Bachelor’s degree (B.A., B.S., B.Eng., etc.)   \n",
      "2    Master’s degree (M.A., M.S., M.Eng., MBA, etc.)   \n",
      "3  Some college/university study without earning ...   \n",
      "4  Secondary school (e.g. American high school, G...   \n",
      "\n",
      "                                           LearnCode  \\\n",
      "0                             Books / Physical media   \n",
      "1  Books / Physical media;Colleague;On the job tr...   \n",
      "2  Books / Physical media;Colleague;On the job tr...   \n",
      "3  Other online resources (e.g., videos, blogs, f...   \n",
      "4  Other online resources (e.g., videos, blogs, f...   \n",
      "\n",
      "                                     LearnCodeOnline  ... JobSatPoints_6  \\\n",
      "0                                                NaN  ...            NaN   \n",
      "1  Technical documentation;Blogs;Books;Written Tu...  ...            0.0   \n",
      "2  Technical documentation;Blogs;Books;Written Tu...  ...            NaN   \n",
      "3  Stack Overflow;How-to videos;Interactive tutorial  ...            NaN   \n",
      "4  Technical documentation;Blogs;Written Tutorial...  ...            NaN   \n",
      "\n",
      "  JobSatPoints_7 JobSatPoints_8 JobSatPoints_9 JobSatPoints_10  \\\n",
      "0            NaN            NaN            NaN             NaN   \n",
      "1            0.0            0.0            0.0             0.0   \n",
      "2            NaN            NaN            NaN             NaN   \n",
      "3            NaN            NaN            NaN             NaN   \n",
      "4            NaN            NaN            NaN             NaN   \n",
      "\n",
      "  JobSatPoints_11           SurveyLength SurveyEase ConvertedCompYearly JobSat  \n",
      "0             NaN                    NaN        NaN                 NaN    NaN  \n",
      "1             0.0                    NaN        NaN                 NaN    NaN  \n",
      "2             NaN  Appropriate in length       Easy                 NaN    NaN  \n",
      "3             NaN               Too long       Easy                 NaN    NaN  \n",
      "4             NaN              Too short       Easy                 NaN    NaN  \n",
      "\n",
      "[5 rows x 114 columns]\n"
     ]
    }
   ],
   "source": [
    "file_path = \"https://cf-courses-data.s3.us.cloud-object-storage.appdomain.cloud/n01PQ9pSmiRX6520flujwQ/survey-data.csv\"\n",
    "df = pd.read_csv(file_path)\n",
    "\n",
    "# Display the first few rows to ensure it loaded correctly\n",
    "print(df.head())"
   ]
  },
  {
   "cell_type": "markdown",
   "metadata": {},
   "source": [
    "### Step 3. Finding and Removing Duplicates\n",
    "##### Task 1: Identify duplicate rows in the dataset.\n"
   ]
  },
  {
   "cell_type": "code",
   "execution_count": 5,
   "metadata": {},
   "outputs": [
    {
     "name": "stdout",
     "output_type": "stream",
     "text": [
      "0\n"
     ]
    },
    {
     "data": {
      "text/html": [
       "<div>\n",
       "<style scoped>\n",
       "    .dataframe tbody tr th:only-of-type {\n",
       "        vertical-align: middle;\n",
       "    }\n",
       "\n",
       "    .dataframe tbody tr th {\n",
       "        vertical-align: top;\n",
       "    }\n",
       "\n",
       "    .dataframe thead th {\n",
       "        text-align: right;\n",
       "    }\n",
       "</style>\n",
       "<table border=\"1\" class=\"dataframe\">\n",
       "  <thead>\n",
       "    <tr style=\"text-align: right;\">\n",
       "      <th></th>\n",
       "      <th>ResponseId</th>\n",
       "      <th>MainBranch</th>\n",
       "      <th>Age</th>\n",
       "      <th>Employment</th>\n",
       "      <th>RemoteWork</th>\n",
       "      <th>Check</th>\n",
       "      <th>CodingActivities</th>\n",
       "      <th>EdLevel</th>\n",
       "      <th>LearnCode</th>\n",
       "      <th>LearnCodeOnline</th>\n",
       "      <th>...</th>\n",
       "      <th>JobSatPoints_6</th>\n",
       "      <th>JobSatPoints_7</th>\n",
       "      <th>JobSatPoints_8</th>\n",
       "      <th>JobSatPoints_9</th>\n",
       "      <th>JobSatPoints_10</th>\n",
       "      <th>JobSatPoints_11</th>\n",
       "      <th>SurveyLength</th>\n",
       "      <th>SurveyEase</th>\n",
       "      <th>ConvertedCompYearly</th>\n",
       "      <th>JobSat</th>\n",
       "    </tr>\n",
       "  </thead>\n",
       "  <tbody>\n",
       "  </tbody>\n",
       "</table>\n",
       "<p>0 rows × 114 columns</p>\n",
       "</div>"
      ],
      "text/plain": [
       "Empty DataFrame\n",
       "Columns: [ResponseId, MainBranch, Age, Employment, RemoteWork, Check, CodingActivities, EdLevel, LearnCode, LearnCodeOnline, TechDoc, YearsCode, YearsCodePro, DevType, OrgSize, PurchaseInfluence, BuyNewTool, BuildvsBuy, TechEndorse, Country, Currency, CompTotal, LanguageHaveWorkedWith, LanguageWantToWorkWith, LanguageAdmired, DatabaseHaveWorkedWith, DatabaseWantToWorkWith, DatabaseAdmired, PlatformHaveWorkedWith, PlatformWantToWorkWith, PlatformAdmired, WebframeHaveWorkedWith, WebframeWantToWorkWith, WebframeAdmired, EmbeddedHaveWorkedWith, EmbeddedWantToWorkWith, EmbeddedAdmired, MiscTechHaveWorkedWith, MiscTechWantToWorkWith, MiscTechAdmired, ToolsTechHaveWorkedWith, ToolsTechWantToWorkWith, ToolsTechAdmired, NEWCollabToolsHaveWorkedWith, NEWCollabToolsWantToWorkWith, NEWCollabToolsAdmired, OpSysPersonal use, OpSysProfessional use, OfficeStackAsyncHaveWorkedWith, OfficeStackAsyncWantToWorkWith, OfficeStackAsyncAdmired, OfficeStackSyncHaveWorkedWith, OfficeStackSyncWantToWorkWith, OfficeStackSyncAdmired, AISearchDevHaveWorkedWith, AISearchDevWantToWorkWith, AISearchDevAdmired, NEWSOSites, SOVisitFreq, SOAccount, SOPartFreq, SOHow, SOComm, AISelect, AISent, AIBen, AIAcc, AIComplex, AIToolCurrently Using, AIToolInterested in Using, AIToolNot interested in Using, AINextMuch more integrated, AINextNo change, AINextMore integrated, AINextLess integrated, AINextMuch less integrated, AIThreat, AIEthics, AIChallenges, TBranch, ICorPM, WorkExp, Knowledge_1, Knowledge_2, Knowledge_3, Knowledge_4, Knowledge_5, Knowledge_6, Knowledge_7, Knowledge_8, Knowledge_9, Frequency_1, Frequency_2, Frequency_3, TimeSearching, TimeAnswering, Frustration, ProfessionalTech, ProfessionalCloud, ProfessionalQuestion, ...]\n",
       "Index: []\n",
       "\n",
       "[0 rows x 114 columns]"
      ]
     },
     "execution_count": 5,
     "metadata": {},
     "output_type": "execute_result"
    }
   ],
   "source": [
    "## Write your code here\n",
    "df_duplicates = df[df.duplicated()]\n",
    "print(len(df_duplicates))\n",
    "df_duplicates.head()"
   ]
  },
  {
   "cell_type": "markdown",
   "metadata": {},
   "source": [
    "##### Task 2: Remove the duplicate rows from the dataframe.\n",
    "\n"
   ]
  },
  {
   "cell_type": "code",
   "execution_count": 6,
   "metadata": {},
   "outputs": [
    {
     "name": "stdout",
     "output_type": "stream",
     "text": [
      "65437\n",
      "65437\n"
     ]
    }
   ],
   "source": [
    "## Write your code here\n",
    "df_no_duplicates = df.drop_duplicates()\n",
    "print(len(df))\n",
    "print(len(df_no_duplicates))\n",
    "df = df_no_duplicates"
   ]
  },
  {
   "cell_type": "markdown",
   "metadata": {},
   "source": [
    "### Step 4: Finding Missing Values\n",
    "##### Task 3: Find the missing values for all columns.\n"
   ]
  },
  {
   "cell_type": "code",
   "execution_count": 9,
   "metadata": {},
   "outputs": [
    {
     "name": "stdout",
     "output_type": "stream",
     "text": [
      "   ResponseId  MainBranch    Age  Employment  RemoteWork  Check  \\\n",
      "0       False       False  False       False       False  False   \n",
      "1       False       False  False       False       False  False   \n",
      "2       False       False  False       False       False  False   \n",
      "3       False       False  False       False        True  False   \n",
      "4       False       False  False       False        True  False   \n",
      "\n",
      "   CodingActivities  EdLevel  LearnCode  LearnCodeOnline  ...  JobSatPoints_6  \\\n",
      "0             False    False      False             True  ...            True   \n",
      "1             False    False      False            False  ...           False   \n",
      "2             False    False      False            False  ...            True   \n",
      "3              True    False      False            False  ...            True   \n",
      "4              True    False      False            False  ...            True   \n",
      "\n",
      "   JobSatPoints_7  JobSatPoints_8  JobSatPoints_9  JobSatPoints_10  \\\n",
      "0            True            True            True             True   \n",
      "1           False           False           False            False   \n",
      "2            True            True            True             True   \n",
      "3            True            True            True             True   \n",
      "4            True            True            True             True   \n",
      "\n",
      "   JobSatPoints_11  SurveyLength  SurveyEase  ConvertedCompYearly  JobSat  \n",
      "0             True          True        True                 True    True  \n",
      "1            False          True        True                 True    True  \n",
      "2             True         False       False                 True    True  \n",
      "3             True         False       False                 True    True  \n",
      "4             True         False       False                 True    True  \n",
      "\n",
      "[5 rows x 114 columns]\n",
      "ResponseId\n",
      "False    65437\n",
      "Name: count, dtype: int64 /n\n",
      "MainBranch\n",
      "False    65437\n",
      "Name: count, dtype: int64 /n\n",
      "Age\n",
      "False    65437\n",
      "Name: count, dtype: int64 /n\n",
      "Employment\n",
      "False    65437\n",
      "Name: count, dtype: int64 /n\n",
      "RemoteWork\n",
      "False    54806\n",
      "True     10631\n",
      "Name: count, dtype: int64 /n\n",
      "Check\n",
      "False    65437\n",
      "Name: count, dtype: int64 /n\n",
      "CodingActivities\n",
      "False    54466\n",
      "True     10971\n",
      "Name: count, dtype: int64 /n\n",
      "EdLevel\n",
      "False    60784\n",
      "True      4653\n",
      "Name: count, dtype: int64 /n\n",
      "LearnCode\n",
      "False    60488\n",
      "True      4949\n",
      "Name: count, dtype: int64 /n\n",
      "LearnCodeOnline\n",
      "False    49237\n",
      "True     16200\n",
      "Name: count, dtype: int64 /n\n",
      "TechDoc\n",
      "False    40897\n",
      "True     24540\n",
      "Name: count, dtype: int64 /n\n",
      "YearsCode\n",
      "False    59869\n",
      "True      5568\n",
      "Name: count, dtype: int64 /n\n",
      "YearsCodePro\n",
      "False    51610\n",
      "True     13827\n",
      "Name: count, dtype: int64 /n\n",
      "DevType\n",
      "False    59445\n",
      "True      5992\n",
      "Name: count, dtype: int64 /n\n",
      "OrgSize\n",
      "False    47480\n",
      "True     17957\n",
      "Name: count, dtype: int64 /n\n",
      "PurchaseInfluence\n",
      "False    47406\n",
      "True     18031\n",
      "Name: count, dtype: int64 /n\n",
      "BuyNewTool\n",
      "False    45181\n",
      "True     20256\n",
      "Name: count, dtype: int64 /n\n",
      "BuildvsBuy\n",
      "False    43358\n",
      "True     22079\n",
      "Name: count, dtype: int64 /n\n",
      "TechEndorse\n",
      "False    43668\n",
      "True     21769\n",
      "Name: count, dtype: int64 /n\n",
      "Country\n",
      "False    58930\n",
      "True      6507\n",
      "Name: count, dtype: int64 /n\n",
      "Currency\n",
      "False    46684\n",
      "True     18753\n",
      "Name: count, dtype: int64 /n\n",
      "CompTotal\n",
      "False    33740\n",
      "True     31697\n",
      "Name: count, dtype: int64 /n\n",
      "LanguageHaveWorkedWith\n",
      "False    59745\n",
      "True      5692\n",
      "Name: count, dtype: int64 /n\n",
      "LanguageWantToWorkWith\n",
      "False    55752\n",
      "True      9685\n",
      "Name: count, dtype: int64 /n\n",
      "LanguageAdmired\n",
      "False    50872\n",
      "True     14565\n",
      "Name: count, dtype: int64 /n\n",
      "DatabaseHaveWorkedWith\n",
      "False    50254\n",
      "True     15183\n",
      "Name: count, dtype: int64 /n\n",
      "DatabaseWantToWorkWith\n",
      "False    42558\n",
      "True     22879\n",
      "Name: count, dtype: int64 /n\n",
      "DatabaseAdmired\n",
      "False    38557\n",
      "True     26880\n",
      "Name: count, dtype: int64 /n\n",
      "PlatformHaveWorkedWith\n",
      "False    42366\n",
      "True     23071\n",
      "Name: count, dtype: int64 /n\n",
      "PlatformWantToWorkWith\n",
      "False    34532\n",
      "True     30905\n",
      "Name: count, dtype: int64 /n\n",
      "PlatformAdmired\n",
      "True     34060\n",
      "False    31377\n",
      "Name: count, dtype: int64 /n\n",
      "WebframeHaveWorkedWith\n",
      "False    45161\n",
      "True     20276\n",
      "Name: count, dtype: int64 /n\n",
      "WebframeWantToWorkWith\n",
      "False    38535\n",
      "True     26902\n",
      "Name: count, dtype: int64 /n\n",
      "WebframeAdmired\n",
      "False    34943\n",
      "True     30494\n",
      "Name: count, dtype: int64 /n\n",
      "EmbeddedHaveWorkedWith\n",
      "True     43223\n",
      "False    22214\n",
      "Name: count, dtype: int64 /n\n",
      "EmbeddedWantToWorkWith\n",
      "True     47837\n",
      "False    17600\n",
      "Name: count, dtype: int64 /n\n",
      "EmbeddedAdmired\n",
      "True     48704\n",
      "False    16733\n",
      "Name: count, dtype: int64 /n\n",
      "MiscTechHaveWorkedWith\n",
      "False    39443\n",
      "True     25994\n",
      "Name: count, dtype: int64 /n\n",
      "MiscTechWantToWorkWith\n",
      "False    32964\n",
      "True     32473\n",
      "Name: count, dtype: int64 /n\n",
      "MiscTechAdmired\n",
      "True     35841\n",
      "False    29596\n",
      "Name: count, dtype: int64 /n\n",
      "ToolsTechHaveWorkedWith\n",
      "False    52482\n",
      "True     12955\n",
      "Name: count, dtype: int64 /n\n",
      "ToolsTechWantToWorkWith\n",
      "False    46084\n",
      "True     19353\n",
      "Name: count, dtype: int64 /n\n",
      "ToolsTechAdmired\n",
      "False    43997\n",
      "True     21440\n",
      "Name: count, dtype: int64 /n\n",
      "NEWCollabToolsHaveWorkedWith\n",
      "False    57592\n",
      "True      7845\n",
      "Name: count, dtype: int64 /n\n",
      "NEWCollabToolsWantToWorkWith\n",
      "False    52087\n",
      "True     13350\n",
      "Name: count, dtype: int64 /n\n",
      "NEWCollabToolsAdmired\n",
      "False    50711\n",
      "True     14726\n",
      "Name: count, dtype: int64 /n\n",
      "OpSysPersonal use\n",
      "False    58174\n",
      "True      7263\n",
      "Name: count, dtype: int64 /n\n",
      "OpSysProfessional use\n",
      "False    52973\n",
      "True     12464\n",
      "Name: count, dtype: int64 /n\n",
      "OfficeStackAsyncHaveWorkedWith\n",
      "False    48093\n",
      "True     17344\n",
      "Name: count, dtype: int64 /n\n",
      "OfficeStackAsyncWantToWorkWith\n",
      "False    38966\n",
      "True     26471\n",
      "Name: count, dtype: int64 /n\n",
      "OfficeStackAsyncAdmired\n",
      "False    37204\n",
      "True     28233\n",
      "Name: count, dtype: int64 /n\n",
      "OfficeStackSyncHaveWorkedWith\n",
      "False    55545\n",
      "True      9892\n",
      "Name: count, dtype: int64 /n\n",
      "OfficeStackSyncWantToWorkWith\n",
      "False    46711\n",
      "True     18726\n",
      "Name: count, dtype: int64 /n\n",
      "OfficeStackSyncAdmired\n",
      "False    44712\n",
      "True     20725\n",
      "Name: count, dtype: int64 /n\n",
      "AISearchDevHaveWorkedWith\n",
      "False    44453\n",
      "True     20984\n",
      "Name: count, dtype: int64 /n\n",
      "AISearchDevWantToWorkWith\n",
      "False    36701\n",
      "True     28736\n",
      "Name: count, dtype: int64 /n\n",
      "AISearchDevAdmired\n",
      "False    35543\n",
      "True     29894\n",
      "Name: count, dtype: int64 /n\n",
      "NEWSOSites\n",
      "False    60286\n",
      "True      5151\n",
      "Name: count, dtype: int64 /n\n",
      "SOVisitFreq\n",
      "False    59536\n",
      "True      5901\n",
      "Name: count, dtype: int64 /n\n",
      "SOAccount\n",
      "False    59560\n",
      "True      5877\n",
      "Name: count, dtype: int64 /n\n",
      "SOPartFreq\n",
      "False    45237\n",
      "True     20200\n",
      "Name: count, dtype: int64 /n\n",
      "SOHow\n",
      "False    58962\n",
      "True      6475\n",
      "Name: count, dtype: int64 /n\n",
      "SOComm\n",
      "False    59163\n",
      "True      6274\n",
      "Name: count, dtype: int64 /n\n",
      "AISelect\n",
      "False    60907\n",
      "True      4530\n",
      "Name: count, dtype: int64 /n\n",
      "AISent\n",
      "False    45873\n",
      "True     19564\n",
      "Name: count, dtype: int64 /n\n",
      "AIBen\n",
      "False    36894\n",
      "True     28543\n",
      "Name: count, dtype: int64 /n\n",
      "AIAcc\n",
      "False    37302\n",
      "True     28135\n",
      "Name: count, dtype: int64 /n\n",
      "AIComplex\n",
      "False    37021\n",
      "True     28416\n",
      "Name: count, dtype: int64 /n\n",
      "AIToolCurrently Using\n",
      "False    35072\n",
      "True     30365\n",
      "Name: count, dtype: int64 /n\n",
      "AIToolInterested in Using\n",
      "True     34746\n",
      "False    30691\n",
      "Name: count, dtype: int64 /n\n",
      "AIToolNot interested in Using\n",
      "True     41023\n",
      "False    24414\n",
      "Name: count, dtype: int64 /n\n",
      "AINextMuch more integrated\n",
      "True     51999\n",
      "False    13438\n",
      "Name: count, dtype: int64 /n\n",
      "AINextNo change\n",
      "True     52939\n",
      "False    12498\n",
      "Name: count, dtype: int64 /n\n",
      "AINextMore integrated\n",
      "True     41009\n",
      "False    24428\n",
      "Name: count, dtype: int64 /n\n",
      "AINextLess integrated\n",
      "True     63082\n",
      "False     2355\n",
      "Name: count, dtype: int64 /n\n",
      "AINextMuch less integrated\n",
      "True     64289\n",
      "False     1148\n",
      "Name: count, dtype: int64 /n\n",
      "AIThreat\n",
      "False    44689\n",
      "True     20748\n",
      "Name: count, dtype: int64 /n\n",
      "AIEthics\n",
      "False    41548\n",
      "True     23889\n",
      "Name: count, dtype: int64 /n\n",
      "AIChallenges\n",
      "False    37531\n",
      "True     27906\n",
      "Name: count, dtype: int64 /n\n",
      "TBranch\n",
      "False    44477\n",
      "True     20960\n",
      "Name: count, dtype: int64 /n\n",
      "ICorPM\n",
      "True     35636\n",
      "False    29801\n",
      "Name: count, dtype: int64 /n\n",
      "WorkExp\n",
      "True     35779\n",
      "False    29658\n",
      "Name: count, dtype: int64 /n\n",
      "Knowledge_1\n",
      "True     36773\n",
      "False    28664\n",
      "Name: count, dtype: int64 /n\n",
      "Knowledge_2\n",
      "True     37416\n",
      "False    28021\n",
      "Name: count, dtype: int64 /n\n",
      "Knowledge_3\n",
      "True     37342\n",
      "False    28095\n",
      "Name: count, dtype: int64 /n\n",
      "Knowledge_4\n",
      "True     37407\n",
      "False    28030\n",
      "Name: count, dtype: int64 /n\n",
      "Knowledge_5\n",
      "True     37557\n",
      "False    27880\n",
      "Name: count, dtype: int64 /n\n",
      "Knowledge_6\n",
      "True     37573\n",
      "False    27864\n",
      "Name: count, dtype: int64 /n\n",
      "Knowledge_7\n",
      "True     37659\n",
      "False    27778\n",
      "Name: count, dtype: int64 /n\n",
      "Knowledge_8\n",
      "True     37679\n",
      "False    27758\n",
      "Name: count, dtype: int64 /n\n",
      "Knowledge_9\n",
      "True     37802\n",
      "False    27635\n",
      "Name: count, dtype: int64 /n\n",
      "Frequency_1\n",
      "True     37068\n",
      "False    28369\n",
      "Name: count, dtype: int64 /n\n",
      "Frequency_2\n",
      "True     37073\n",
      "False    28364\n",
      "Name: count, dtype: int64 /n\n",
      "Frequency_3\n",
      "True     37727\n",
      "False    27710\n",
      "Name: count, dtype: int64 /n\n",
      "TimeSearching\n",
      "True     36526\n",
      "False    28911\n",
      "Name: count, dtype: int64 /n\n",
      "TimeAnswering\n",
      "True     36593\n",
      "False    28844\n",
      "Name: count, dtype: int64 /n\n",
      "Frustration\n",
      "True     37186\n",
      "False    28251\n",
      "Name: count, dtype: int64 /n\n",
      "ProfessionalTech\n",
      "True     37673\n",
      "False    27764\n",
      "Name: count, dtype: int64 /n\n",
      "ProfessionalCloud\n",
      "True     36946\n",
      "False    28491\n",
      "Name: count, dtype: int64 /n\n",
      "ProfessionalQuestion\n",
      "True     36630\n",
      "False    28807\n",
      "Name: count, dtype: int64 /n\n",
      "Industry\n",
      "True     36579\n",
      "False    28858\n",
      "Name: count, dtype: int64 /n\n",
      "JobSatPoints_1\n",
      "True     36113\n",
      "False    29324\n",
      "Name: count, dtype: int64 /n\n",
      "JobSatPoints_4\n",
      "True     36044\n",
      "False    29393\n",
      "Name: count, dtype: int64 /n\n",
      "JobSatPoints_5\n",
      "True     36026\n",
      "False    29411\n",
      "Name: count, dtype: int64 /n\n",
      "JobSatPoints_6\n",
      "True     35987\n",
      "False    29450\n",
      "Name: count, dtype: int64 /n\n",
      "JobSatPoints_7\n",
      "True     35989\n",
      "False    29448\n",
      "Name: count, dtype: int64 /n\n",
      "JobSatPoints_8\n",
      "True     35981\n",
      "False    29456\n",
      "Name: count, dtype: int64 /n\n",
      "JobSatPoints_9\n",
      "True     35981\n",
      "False    29456\n",
      "Name: count, dtype: int64 /n\n",
      "JobSatPoints_10\n",
      "True     35987\n",
      "False    29450\n",
      "Name: count, dtype: int64 /n\n",
      "JobSatPoints_11\n",
      "True     35992\n",
      "False    29445\n",
      "Name: count, dtype: int64 /n\n",
      "SurveyLength\n",
      "False    56182\n",
      "True      9255\n",
      "Name: count, dtype: int64 /n\n",
      "SurveyEase\n",
      "False    56238\n",
      "True      9199\n",
      "Name: count, dtype: int64 /n\n",
      "ConvertedCompYearly\n",
      "True     42002\n",
      "False    23435\n",
      "Name: count, dtype: int64 /n\n",
      "JobSat\n",
      "True     36311\n",
      "False    29126\n",
      "Name: count, dtype: int64 /n\n"
     ]
    }
   ],
   "source": [
    "## Write your code here\n",
    "df.replace(\"?\", np.nan, inplace=True)\n",
    "missing_data = df.isnull()\n",
    "print(missing_data.head())\n",
    "\n",
    "# Count missing values for each column\n",
    "for column in missing_data.columns.values.tolist():\n",
    "    print(missing_data[column].value_counts(), \"/n\")"
   ]
  },
  {
   "cell_type": "markdown",
   "metadata": {},
   "source": [
    "##### Task 4: Find out how many rows are missing in the column RemoteWork.\n"
   ]
  },
  {
   "cell_type": "code",
   "execution_count": 10,
   "metadata": {},
   "outputs": [
    {
     "data": {
      "text/plain": [
       "RemoteWork\n",
       "False    54806\n",
       "True     10631\n",
       "Name: count, dtype: int64"
      ]
     },
     "execution_count": 10,
     "metadata": {},
     "output_type": "execute_result"
    }
   ],
   "source": [
    "## Write your code here\n",
    "missing_data['RemoteWork'].value_counts()"
   ]
  },
  {
   "cell_type": "markdown",
   "metadata": {},
   "source": [
    "### Step 5. Imputing Missing Values\n",
    "##### Task 5: Find the value counts for the column RemoteWork.\n"
   ]
  },
  {
   "cell_type": "code",
   "execution_count": 11,
   "metadata": {},
   "outputs": [
    {
     "data": {
      "text/plain": [
       "RemoteWork\n",
       "Hybrid (some remote, some in-person)    23015\n",
       "Remote                                  20831\n",
       "In-person                               10960\n",
       "Name: count, dtype: int64"
      ]
     },
     "execution_count": 11,
     "metadata": {},
     "output_type": "execute_result"
    }
   ],
   "source": [
    "## Write your code here\n",
    "df['RemoteWork'].value_counts()"
   ]
  },
  {
   "cell_type": "markdown",
   "metadata": {},
   "source": [
    "##### Task 6: Identify the most frequent (majority) value in the RemoteWork column.\n",
    "\n"
   ]
  },
  {
   "cell_type": "code",
   "execution_count": 12,
   "metadata": {},
   "outputs": [
    {
     "name": "stdout",
     "output_type": "stream",
     "text": [
      "Hybrid (some remote, some in-person)\n"
     ]
    }
   ],
   "source": [
    "## Write your code here\n",
    "common_value = df['RemoteWork'].value_counts().idxmax()\n",
    "print(common_value)"
   ]
  },
  {
   "cell_type": "markdown",
   "metadata": {},
   "source": [
    "##### Task 7: Impute (replace) all the empty rows in the column RemoteWork with the majority value.\n",
    "\n"
   ]
  },
  {
   "cell_type": "code",
   "execution_count": 13,
   "metadata": {},
   "outputs": [
    {
     "name": "stdout",
     "output_type": "stream",
     "text": [
      "RemoteWork\n",
      "False    65437\n",
      "Name: count, dtype: int64\n"
     ]
    }
   ],
   "source": [
    "## Write your code here\n",
    "df['RemoteWork'] = df['RemoteWork'].replace(np.nan, common_value)\n",
    "missingRemoteWork = df['RemoteWork'].isnull()\n",
    "print(missingRemoteWork.value_counts())"
   ]
  },
  {
   "cell_type": "markdown",
   "metadata": {},
   "source": [
    "##### Task 8: Check for any compensation-related columns and describe their distribution.\n",
    "\n"
   ]
  },
  {
   "cell_type": "code",
   "execution_count": 76,
   "metadata": {
    "scrolled": true
   },
   "outputs": [
    {
     "name": "stdout",
     "output_type": "stream",
     "text": [
      "['ResponseId' 'MainBranch' 'Age' 'Employment' 'RemoteWork' 'Check'\n",
      " 'CodingActivities' 'EdLevel' 'LearnCode' 'LearnCodeOnline' 'TechDoc'\n",
      " 'YearsCode' 'YearsCodePro' 'DevType' 'OrgSize' 'PurchaseInfluence'\n",
      " 'BuyNewTool' 'BuildvsBuy' 'TechEndorse' 'Country' 'Currency' 'CompTotal'\n",
      " 'LanguageHaveWorkedWith' 'LanguageWantToWorkWith' 'LanguageAdmired'\n",
      " 'DatabaseHaveWorkedWith' 'DatabaseWantToWorkWith' 'DatabaseAdmired'\n",
      " 'PlatformHaveWorkedWith' 'PlatformWantToWorkWith' 'PlatformAdmired'\n",
      " 'WebframeHaveWorkedWith' 'WebframeWantToWorkWith' 'WebframeAdmired'\n",
      " 'EmbeddedHaveWorkedWith' 'EmbeddedWantToWorkWith' 'EmbeddedAdmired'\n",
      " 'MiscTechHaveWorkedWith' 'MiscTechWantToWorkWith' 'MiscTechAdmired'\n",
      " 'ToolsTechHaveWorkedWith' 'ToolsTechWantToWorkWith' 'ToolsTechAdmired'\n",
      " 'NEWCollabToolsHaveWorkedWith' 'NEWCollabToolsWantToWorkWith'\n",
      " 'NEWCollabToolsAdmired' 'OpSysPersonal use' 'OpSysProfessional use'\n",
      " 'OfficeStackAsyncHaveWorkedWith' 'OfficeStackAsyncWantToWorkWith'\n",
      " 'OfficeStackAsyncAdmired' 'OfficeStackSyncHaveWorkedWith'\n",
      " 'OfficeStackSyncWantToWorkWith' 'OfficeStackSyncAdmired'\n",
      " 'AISearchDevHaveWorkedWith' 'AISearchDevWantToWorkWith'\n",
      " 'AISearchDevAdmired' 'NEWSOSites' 'SOVisitFreq' 'SOAccount' 'SOPartFreq'\n",
      " 'SOHow' 'SOComm' 'AISelect' 'AISent' 'AIBen' 'AIAcc' 'AIComplex'\n",
      " 'AIToolCurrently Using' 'AIToolInterested in Using'\n",
      " 'AIToolNot interested in Using' 'AINextMuch more integrated'\n",
      " 'AINextNo change' 'AINextMore integrated' 'AINextLess integrated'\n",
      " 'AINextMuch less integrated' 'AIThreat' 'AIEthics' 'AIChallenges'\n",
      " 'TBranch' 'ICorPM' 'WorkExp' 'Knowledge_1' 'Knowledge_2' 'Knowledge_3'\n",
      " 'Knowledge_4' 'Knowledge_5' 'Knowledge_6' 'Knowledge_7' 'Knowledge_8'\n",
      " 'Knowledge_9' 'Frequency_1' 'Frequency_2' 'Frequency_3' 'TimeSearching'\n",
      " 'TimeAnswering' 'Frustration' 'ProfessionalTech' 'ProfessionalCloud'\n",
      " 'ProfessionalQuestion' 'Industry' 'JobSatPoints_1' 'JobSatPoints_4'\n",
      " 'JobSatPoints_5' 'JobSatPoints_6' 'JobSatPoints_7' 'JobSatPoints_8'\n",
      " 'JobSatPoints_9' 'JobSatPoints_10' 'JobSatPoints_11' 'SurveyLength'\n",
      " 'SurveyEase' 'ConvertedCompYearly' 'JobSat']\n",
      "CompTotal              float64\n",
      "ConvertedCompYearly    float64\n",
      "dtype: object\n"
     ]
    },
    {
     "data": {
      "image/png": "[encoded data removed]",
      "text/plain": [
       "<Figure size 1200x1000 with 1 Axes>"
      ]
     },
     "metadata": {},
     "output_type": "display_data"
    },
    {
     "data": {
      "image/png": "[encoded data removed]",
      "text/plain": [
       "<Figure size 1200x1000 with 1 Axes>"
      ]
     },
     "metadata": {},
     "output_type": "display_data"
    }
   ],
   "source": [
    "## Write your code here\n",
    "%matplotlib inline\n",
    "\n",
    "print(df.columns.values)\n",
    "# CompTotal and ConvertedCompYearly are two compensation-related columns.\n",
    "\n",
    "print(df[['CompTotal','ConvertedCompYearly']].dtypes)\n",
    "# Will use histograms\n",
    "\n",
    "# COMPTOTAL COLUM\n",
    "\n",
    "# Remove outliers\n",
    "Q1 = df['CompTotal'].quantile(0.25)\n",
    "Q3 = df['CompTotal'].quantile(0.75)\n",
    "IQR = Q3 - Q1\n",
    "LowerBound = Q1 - 1.5 * IQR\n",
    "UpperBound = Q3 + 1.5 * IQR\n",
    "CompTotalNoOutliersDf = df[(df['CompTotal'] >= LowerBound) & (df['CompTotal'] <= UpperBound)]\n",
    "\n",
    "# remove nulls\n",
    "CompTotalNoOutliersDf = CompTotalNoOutliersDf.dropna(subset=['CompTotal'], axis=0)\n",
    "\n",
    "# Calculate bin edges\n",
    "count, bin_edges = np.histogram(CompTotalNoOutliersDf['CompTotal'])\n",
    "\n",
    "# plot\n",
    "CompTotalNoOutliersDf['CompTotal'].plot(kind='hist', xticks=bin_edges, figsize=(12,10))\n",
    "plt.show()\n",
    "\n",
    "# CONVERTEDCOMPYEARLY COLUMN\n",
    "\n",
    "# Remove outliers\n",
    "Q1 = df['ConvertedCompYearly'].quantile(0.25)\n",
    "Q3 = df['ConvertedCompYearly'].quantile(0.75)\n",
    "IQR = Q3 - Q1\n",
    "LowerBound = Q1 - 1.5 * IQR\n",
    "UpperBound = Q3 + 1.5 * IQR\n",
    "ConvertedCompYearlyNoOutliersDf = df[(df['ConvertedCompYearly'] >= LowerBound) & (df['ConvertedCompYearly'] <= UpperBound)]\n",
    "\n",
    "# remove nulls\n",
    "ConvertedCompYearlyNoOutliersDf = ConvertedCompYearlyNoOutliersDf.dropna(subset=['ConvertedCompYearly'], axis=0)\n",
    "\n",
    "# Calculate bin edges\n",
    "count, bin_edges = np.histogram(ConvertedCompYearlyNoOutliersDf['ConvertedCompYearly'])\n",
    "\n",
    "# plot\n",
    "ConvertedCompYearlyNoOutliersDf['ConvertedCompYearly'].plot(kind='hist', xticks=bin_edges, figsize=(12,10))\n",
    "plt.show()\n",
    "\n",
    "# Most people earn on the lower end of the distribution, up to 100k. The distribution is right skewed."
   ]
  },
  {
   "cell_type": "markdown",
   "metadata": {},
   "source": [
    "### Summary \n"
   ]
  },
  {
   "cell_type": "markdown",
   "metadata": {},
   "source": [
    "**In this lab, you focused on imputing missing values in the dataset.**\n",
    "\n",
    "- Use the <code>pandas.read_csv()</code> function to load a dataset from a CSV file into a DataFrame.\n",
    "\n",
    "- Download the dataset if it's not available online and specify the correct file path.\n",
    "\n"
   ]
  },
  {
   "cell_type": "markdown",
   "metadata": {},
   "source": [
    "<!--\n",
    "## Change Log\n",
    "|Date (YYYY-MM-DD)|Version|Changed By|Change Description|\n",
    "|-|-|-|-|\n",
    "|2024-11-05|1.3|Madhusudhan Moole|Updated lab|\n",
    "|2024-10-29|1.2|Madhusudhan Moole|Updated lab|\n",
    "|2024-09-27|1.1|Madhusudhan Moole|Updated lab|\n",
    "|2024-09-26|1.0|Raghul Ramesh|Created lab|\n",
    "--!>\n"
   ]
  },
  {
   "cell_type": "markdown",
   "metadata": {},
   "source": [
    "Copyright © IBM Corporation. All rights reserved.\n"
   ]
  }
 ],
 "metadata": {
  "kernelspec": {
   "display_name": "Python 3 (ipykernel)",
   "language": "python",
   "name": "python3"
  },
  "language_info": {
   "codemirror_mode": {
    "name": "ipython",
    "version": 3
   },
   "file_extension": ".py",
   "mimetype": "text/x-python",
   "name": "python",
   "nbconvert_exporter": "python",
   "pygments_lexer": "ipython3",
   "version": "3.12.8"
  },
  "prev_pub_hash": "70ab641719bca2be0bdcb38f6a8b5de7851b6e9c28d41b9407096c62e74916a6"
 },
 "nbformat": 4,
 "nbformat_minor": 4
}
